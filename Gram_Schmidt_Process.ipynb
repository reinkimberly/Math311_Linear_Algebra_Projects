{
  "nbformat": 4,
  "nbformat_minor": 0,
  "metadata": {
    "colab": {
      "provenance": [],
      "authorship_tag": "ABX9TyPsh1mAc7J/meP2yTSW3bLZ",
      "include_colab_link": true
    },
    "kernelspec": {
      "name": "python3",
      "display_name": "Python 3"
    },
    "language_info": {
      "name": "python"
    }
  },
  "cells": [
    {
      "cell_type": "markdown",
      "metadata": {
        "id": "view-in-github",
        "colab_type": "text"
      },
      "source": [
        "<a href=\"https://colab.research.google.com/github/reinkimberly/Math311_Linear_Algebra_Projects/blob/main/Gram_Schmidt_Process.ipynb\" target=\"_parent\"><img src=\"https://colab.research.google.com/assets/colab-badge.svg\" alt=\"Open In Colab\"/></a>"
      ]
    },
    {
      "cell_type": "markdown",
      "source": [
        "Finding Orthonormal vectors using the Gram Schmitt Orthonormalization Process\n"
      ],
      "metadata": {
        "id": "Dg7f_SId1PFf"
      }
    },
    {
      "cell_type": "code",
      "execution_count": 1,
      "metadata": {
        "id": "d3QB9RCn1IWH"
      },
      "outputs": [],
      "source": [
        "import matplotlib.pyplot as plt\n",
        "from sympy import Poly\n",
        "import sympy as sym\n",
        "import numpy as np\n",
        "from numpy import c_\n",
        "\n",
        "# We'll specify that x and t are variables:\n",
        "x, t = sym.symbols('x, t')\n",
        "\n",
        "ll = \"loaded\""
      ]
    },
    {
      "cell_type": "markdown",
      "source": [
        "Gram Schmidt Process:\n",
        "\n",
        "1. Start with random vectors r1, r2, r3, r4\n",
        "2. Process them to get orthonormal vectors: u1, u2, u3, u4\n",
        "\n",
        "After each step we will check that our nice vectors are:\n",
        "\n",
        "* orthogonal to previous nice vectors\n",
        "* have magnitude 1"
      ],
      "metadata": {
        "id": "aHTT86aQ_obX"
      }
    },
    {
      "cell_type": "code",
      "source": [
        "# These are the \"random\" vectors:\n",
        "\n",
        "r1 = np.array([3, 0, 3, 0])\n",
        "\n"
      ],
      "metadata": {
        "id": "CYT04mB817yf"
      },
      "execution_count": 2,
      "outputs": []
    },
    {
      "cell_type": "code",
      "source": [
        "r2 = np.array([3, 2, 3, 3])\n",
        "\n"
      ],
      "metadata": {
        "id": "KsNObM6j6MY5"
      },
      "execution_count": 16,
      "outputs": []
    },
    {
      "cell_type": "code",
      "source": [
        "r3 = np.array([-7, -4, -5, -6])\n",
        "\n"
      ],
      "metadata": {
        "id": "n05WtgTb6VtQ"
      },
      "execution_count": 17,
      "outputs": []
    },
    {
      "cell_type": "code",
      "source": [
        "r4 = np.array([-7, -3, -11, 2])\n"
      ],
      "metadata": {
        "id": "AImtTbJ76cdR"
      },
      "execution_count": 18,
      "outputs": []
    },
    {
      "cell_type": "code",
      "source": [
        "r4.dot(r4)\n"
      ],
      "metadata": {
        "colab": {
          "base_uri": "https://localhost:8080/"
        },
        "id": "botZn0ej26bm",
        "outputId": "d88719a9-f834-4696-b375-d131c3450718"
      },
      "execution_count": 19,
      "outputs": [
        {
          "output_type": "execute_result",
          "data": {
            "text/plain": [
              "183"
            ]
          },
          "metadata": {},
          "execution_count": 19
        }
      ]
    },
    {
      "cell_type": "code",
      "source": [
        "#Process r1:\n",
        "\n",
        "t1 = r1\n",
        "print (\"t1 is\", t1)\n",
        "\n",
        "#Magnitude\n",
        "n1 = np.sqrt(t1.dot(t1))\n",
        "print(\"the size of t1 is \", n1)\n",
        "\n",
        "#create u1:\n",
        "u1 = (1/n1) * t1\n",
        "print (\"u1 is \", u1)\n",
        "\n"
      ],
      "metadata": {
        "colab": {
          "base_uri": "https://localhost:8080/"
        },
        "id": "dbg1Vq_h6-jq",
        "outputId": "5cfbc93a-631f-416d-da3e-6d77419d85ce"
      },
      "execution_count": 20,
      "outputs": [
        {
          "output_type": "stream",
          "name": "stdout",
          "text": [
            "t1 is [3 0 3 0]\n",
            "the size of t1 is  4.242640687119285\n",
            "u1 is  [0.70710678 0.         0.70710678 0.        ]\n"
          ]
        }
      ]
    },
    {
      "cell_type": "code",
      "source": [
        "# Sanity check:\n",
        "print(\"the size of u1 is \", np.sqrt(u1.dot(u1)))\n",
        "\n",
        "#print(\"the dot product of u1 and u2 is\", u1.dot(u2))"
      ],
      "metadata": {
        "colab": {
          "base_uri": "https://localhost:8080/"
        },
        "id": "ckOMQ37y91Bw",
        "outputId": "ea417652-cd3b-46fa-9e1c-c9836311af6b"
      },
      "execution_count": 21,
      "outputs": [
        {
          "output_type": "stream",
          "name": "stdout",
          "text": [
            "the size of u1 is  1.0\n"
          ]
        }
      ]
    },
    {
      "cell_type": "code",
      "source": [
        "#Process r2:\n",
        "\n",
        "t2 = r2 - (r2.dot(u1))*u1\n",
        "print (\"t2 is\", t2)\n",
        "\n",
        "#Magnitude\n",
        "n2 = np.sqrt(t2.dot(t2))\n",
        "print(\"the size of t2 is \", n2)\n",
        "\n",
        "#create u2:\n",
        "u2 = (1/n2) * t2\n",
        "print (\"u2 is \", u2)\n"
      ],
      "metadata": {
        "colab": {
          "base_uri": "https://localhost:8080/"
        },
        "id": "uu9e9UIXAE8Q",
        "outputId": "acc7fc1c-57e5-42a2-fa09-8441a754966e"
      },
      "execution_count": 23,
      "outputs": [
        {
          "output_type": "stream",
          "name": "stdout",
          "text": [
            "t2 is [-4.4408921e-16  2.0000000e+00 -4.4408921e-16  3.0000000e+00]\n",
            "the size of t2 is  3.605551275463989\n",
            "u2 is  [-1.23168186e-16  5.54700196e-01 -1.23168186e-16  8.32050294e-01]\n"
          ]
        }
      ]
    },
    {
      "cell_type": "code",
      "source": [
        "# Sanity check:\n",
        "print(\"the size of u2 is \", np.sqrt(u2.dot(u2)))\n",
        "\n",
        "print(\"the dot product of u1 and u2 is\", u1.dot(u2))"
      ],
      "metadata": {
        "colab": {
          "base_uri": "https://localhost:8080/"
        },
        "id": "PzukKFxwAhbU",
        "outputId": "6605a93d-03ac-468c-bd10-f44e36a0fe6a"
      },
      "execution_count": 24,
      "outputs": [
        {
          "output_type": "stream",
          "name": "stdout",
          "text": [
            "the size of u2 is  1.0\n",
            "the dot product of u1 and u2 is -1.741861189847285e-16\n"
          ]
        }
      ]
    },
    {
      "cell_type": "code",
      "source": [
        "#Process r3:\n",
        "\n",
        "t3 = r3 - (r3.dot(u1))*u1 - (r3.dot(u2))*u2\n",
        "print (\"t3 is\", t3)\n",
        "\n",
        "#Magnitude\n",
        "n3 = np.sqrt(t3.dot(t3))\n",
        "print(\"the size of t3 is \", n3)\n",
        "\n",
        "#create u3:\n",
        "u3 = (1/n3) * t3\n",
        "print (\"u3 is \", u3)"
      ],
      "metadata": {
        "colab": {
          "base_uri": "https://localhost:8080/"
        },
        "id": "rJ2VyR1bAxtL",
        "outputId": "9774bafa-3968-455a-b296-87788fd41ead"
      },
      "execution_count": 25,
      "outputs": [
        {
          "output_type": "stream",
          "name": "stdout",
          "text": [
            "t3 is [-1.0000000e+00 -4.4408921e-16  1.0000000e+00 -8.8817842e-16]\n",
            "the size of t3 is  1.4142135623730951\n",
            "u3 is  [-7.07106781e-01 -3.14018492e-16  7.07106781e-01 -6.28036983e-16]\n"
          ]
        }
      ]
    },
    {
      "cell_type": "code",
      "source": [
        "# Sanity check:\n",
        "print(\"the size of u3 is \", np.sqrt(u3.dot(u3)))\n",
        "\n",
        "print(\"the dot product of u1 and u3 is\", u1.dot(u3))"
      ],
      "metadata": {
        "colab": {
          "base_uri": "https://localhost:8080/"
        },
        "id": "tGz4jR2UGtlm",
        "outputId": "56094115-1e19-4ab8-9d5d-6b4b2ffaf409"
      },
      "execution_count": 12,
      "outputs": [
        {
          "output_type": "stream",
          "name": "stdout",
          "text": [
            "the size of u3 is  1.0\n",
            "the dot product of u1 and u3 is -1.1102230246251565e-16\n"
          ]
        }
      ]
    },
    {
      "cell_type": "code",
      "source": [
        "#Process r4:\n",
        "\n",
        "t4 = r4 - (r4.dot(u1))*u1 - (r4.dot(u2))*u2 - (r4.dot(u3))*u3\n",
        "print (\"t4 is\", t4)\n",
        "\n",
        "#Magnitude\n",
        "n4 = np.sqrt(t4.dot(t4))\n",
        "print(\"the size of t4 is \", n4)\n",
        "\n",
        "#create u3:\n",
        "u4 = (1/n4) * t4\n",
        "print (\"u4 is \", u4)"
      ],
      "metadata": {
        "colab": {
          "base_uri": "https://localhost:8080/"
        },
        "id": "zdkdukNrJ3S6",
        "outputId": "07ee95d5-0344-4ba6-8846-52b864abc28f"
      },
      "execution_count": 13,
      "outputs": [
        {
          "output_type": "stream",
          "name": "stdout",
          "text": [
            "t4 is [-0.25 -0.25  0.25  0.25]\n",
            "the size of t4 is  0.5\n",
            "u4 is  [-0.5 -0.5  0.5  0.5]\n"
          ]
        }
      ]
    },
    {
      "cell_type": "code",
      "source": [
        "# Sanity check:\n",
        "print(\"the size of u4 is \", np.sqrt(u4.dot(u4)))\n",
        "\n",
        "print(\"the dot product of u1 and u4 is\", u1.dot(u4))"
      ],
      "metadata": {
        "colab": {
          "base_uri": "https://localhost:8080/"
        },
        "id": "2h_d6CbJKOXw",
        "outputId": "2c50ff6e-c91e-4dd4-f529-ff72dc1d0f40"
      },
      "execution_count": 14,
      "outputs": [
        {
          "output_type": "stream",
          "name": "stdout",
          "text": [
            "the size of u4 is  1.0\n",
            "the dot product of u1 and u4 is -1.2212453270876722e-15\n"
          ]
        }
      ]
    }
  ]
}