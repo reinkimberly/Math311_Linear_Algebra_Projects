{
  "nbformat": 4,
  "nbformat_minor": 0,
  "metadata": {
    "colab": {
      "provenance": [],
      "include_colab_link": true
    },
    "kernelspec": {
      "name": "python3",
      "display_name": "Python 3"
    }
  },
  "cells": [
    {
      "cell_type": "markdown",
      "metadata": {
        "id": "view-in-github",
        "colab_type": "text"
      },
      "source": [
        "<a href=\"https://colab.research.google.com/github/reinkimberly/Math311_Linear_Algebra_Projects/blob/main/Kim's_Copy_of_Sports_Teams_Rankings.ipynb\" target=\"_parent\"><img src=\"https://colab.research.google.com/assets/colab-badge.svg\" alt=\"Open In Colab\"/></a>"
      ]
    },
    {
      "cell_type": "markdown",
      "metadata": {
        "id": "TwGBRAD9R6W4"
      },
      "source": [
        "# Load the preliminary code"
      ]
    },
    {
      "cell_type": "code",
      "metadata": {
        "id": "NaP8xyCfRrUg"
      },
      "source": [
        "import matplotlib.pyplot as plt\n",
        "from sympy import Poly\n",
        "import sympy as sym\n",
        "import numpy as np\n",
        "from numpy import c_\n",
        "\n",
        "# We'll specify that x and t are variables:\n",
        "x, t = sym.symbols('x, t')\n",
        "\n",
        "ll = \"loaded\""
      ],
      "execution_count": null,
      "outputs": []
    },
    {
      "cell_type": "code",
      "metadata": {
        "id": "CANB9fuMRyBP",
        "colab": {
          "base_uri": "https://localhost:8080/"
        },
        "outputId": "b47c38c9-fe89-4a2d-f995-0ec9cc8b78ae"
      },
      "source": [
        "lll = \" correctly!\"\n",
        "\n",
        "def rref(matrix):\n",
        "    A = np.array(matrix, dtype=np.float64)\n",
        "\n",
        "    r = 0 #row\n",
        "    c = 0 #column\n",
        "\n",
        "    (maxr, maxc) = A.shape\n",
        "\n",
        "    prev_row_pivot = -1   # The previous row with a leading term:\n",
        "    tmp_pivot_row = -1\n",
        "    this_pivot_row = -1\n",
        "\n",
        "    for c in range(maxc):  # go through each column\n",
        "      tmp_pivot_row = -1  # reset the tmp pivot row\n",
        "      this_pivot_row = -1  # reset this pivot row\n",
        "      for r in range(maxr):  # Find the leading term in this column below prev_row_pivot\n",
        "        if ((r > prev_row_pivot) and (A[r][c] != 0.0)):\n",
        "          tmp_pivot_row = r  # find the new pivot row\n",
        "      if (tmp_pivot_row > -1):  # we found a candidate for the leading term:\n",
        "        #swap row this_pivot_row with (prev_row_pivot + 1)\n",
        "        A[[tmp_pivot_row, prev_row_pivot+1]] = A[[prev_row_pivot + 1, tmp_pivot_row]]\n",
        "        #set this_pivot_row to prev_row_pivot+1\n",
        "        this_pivot_row = prev_row_pivot + 1\n",
        "        #Now, normalize the row based on the pivot value:\n",
        "        A[ this_pivot_row ] = A[ this_pivot_row ] / A[ this_pivot_row ][c]\n",
        "        #Then, use this row to force 0's above and below the pivot entry:\n",
        "        #subtract multiples of of the this_pivot_row row from the others\n",
        "        for r_ in range(len(A)):\n",
        "            if r_ != this_pivot_row:\n",
        "                A[r_] = A[r_] - A[this_pivot_row] * A[r_][c] / A[this_pivot_row][c]\n",
        "        prev_row_pivot = this_pivot_row\n",
        "    return A\n",
        "\n",
        "\n",
        "def is_singular(matrix):\n",
        "  singular = True\n",
        "  notsingular = False\n",
        "\n",
        "  (mr, mc) = matrix.shape\n",
        "\n",
        "  return_value = notsingular\n",
        "  if (mc - np.linalg.linalg.matrix_rank(matrix) > 0) :\n",
        "    return_value = singular\n",
        "  return return_value\n",
        "\n",
        "\n",
        "\n",
        "\n",
        "print(\">> The page \", ll, lll)"
      ],
      "execution_count": null,
      "outputs": [
        {
          "output_type": "stream",
          "name": "stdout",
          "text": [
            ">> The page  loaded  correctly!\n"
          ]
        }
      ]
    },
    {
      "cell_type": "markdown",
      "metadata": {
        "id": "dCB31bhvTulU"
      },
      "source": [
        "# Ranking Teams based on games\n",
        "\n",
        "From our packet, we saw there were five games:\n",
        "\n",
        "Home  | Away\n",
        "------|------\n",
        "Winona State 16 | Sioux Falls 15\n",
        "Winona State 34 | Augustana 20\n",
        "Sioux Falls 51  | Augustana 13\n",
        "Duluth 28       |  Augustana 17\n",
        "Winona State 17 | Duluth 37\n",
        "\n",
        "Let's encode this system into a matrix.\n",
        "\n",
        "The unknown rankings are $r_w, r_s, r_a, r_d$.\n",
        "\n",
        "The system looks like $M \\vec{x} = \\vec{b}$, or\n",
        "\n",
        "$$\n",
        "\\left( \\begin{array}{cccc} 1 & -1 & 0 & 0 \\\\ 1 & 0 & -1 & 0 \\\\ 0 & 1 & -1 & 0 \\\\ 0 & 0 & -1 & 1 \\\\ -1 & 0  & 0 & 1 \\\\ \\end{array} \\right) \\, \\left( \\begin{array}{c} r_w \\\\ r_s \\\\ r_a \\\\ r_d \\\\ \\end{array} \\right) = \\left( \\begin{array}{c} 1 \\\\ 14 \\\\ 38 \\\\ 11 \\\\ 20 \\\\ \\end{array} \\right)$$\n",
        "\n",
        "We'll solve this system using least squares\n",
        "$$M^T I M \\vec{x} = M^T I \\vec{b} $$\n",
        "\n",
        "$$ \\vec{x} = \\left( M^T I M  \\right)^{-1} M^T I \\vec{b} $$\n",
        "\n",
        "\n",
        "\n",
        "\n"
      ]
    },
    {
      "cell_type": "code",
      "metadata": {
        "id": "zZOH_e5mViMs",
        "colab": {
          "base_uri": "https://localhost:8080/"
        },
        "outputId": "09ac0c02-8653-4b5d-fe4e-ba5742b796bd"
      },
      "source": [
        "# create the matrix:\n",
        "M = np.matrix([[1, -1, 0, 0],\n",
        "               [1, 0, -1, 0],\n",
        "               [0, 1, -1, 0],\n",
        "               [0, 0, -1, 1],\n",
        "               [-1, 0, 0, 1]])\n",
        "\n",
        "\n",
        "# create the vector for the right hand side:\n",
        "pts = np.matrix([[1], [14], [38], [11], [20]])\n",
        "\n",
        "#Make sure the system looks appropriate:\n",
        "print(np.c_[M,pts])"
      ],
      "execution_count": null,
      "outputs": [
        {
          "output_type": "stream",
          "name": "stdout",
          "text": [
            "[[ 1 -1  0  0  1]\n",
            " [ 1  0 -1  0 14]\n",
            " [ 0  1 -1  0 38]\n",
            " [ 0  0 -1  1 11]\n",
            " [-1  0  0  1 20]]\n"
          ]
        }
      ]
    },
    {
      "cell_type": "code",
      "metadata": {
        "id": "s_r-ljCGWB18",
        "colab": {
          "base_uri": "https://localhost:8080/"
        },
        "outputId": "d8dc1988-f397-44f8-f405-74b85f71a3ca"
      },
      "source": [
        "# Generate the transpose of M:\n",
        "MT = M.transpose()\n",
        "\n",
        "print(\"The Transpose of M is:\")\n",
        "print(MT)\n",
        "\n",
        "# and find MT*M and MT*pts:\n",
        "print(\"\\n\")\n",
        "print(\"MT * M is: \")\n",
        "MTM = MT * M\n",
        "print(MTM)\n",
        "\n",
        "print(\"\\n\")\n",
        "print(\"MT * pts is:\")\n",
        "MTpts = MT * pts\n",
        "print(MTpts)\n"
      ],
      "execution_count": null,
      "outputs": [
        {
          "output_type": "stream",
          "name": "stdout",
          "text": [
            "The Transpose of M is:\n",
            "[[ 1  1  0  0 -1]\n",
            " [-1  0  1  0  0]\n",
            " [ 0 -1 -1 -1  0]\n",
            " [ 0  0  0  1  1]]\n",
            "\n",
            "\n",
            "MT * M is: \n",
            "[[ 3 -1 -1 -1]\n",
            " [-1  2 -1  0]\n",
            " [-1 -1  3 -1]\n",
            " [-1  0 -1  2]]\n",
            "\n",
            "\n",
            "MT * pts is:\n",
            "[[ -5]\n",
            " [ 37]\n",
            " [-63]\n",
            " [ 31]]\n"
          ]
        }
      ]
    },
    {
      "cell_type": "markdown",
      "metadata": {
        "id": "x38H0uPwbhpF"
      },
      "source": [
        "If $M^T M$ has an inverse, then we can use it.  But, if $M^T M$ is singular, then it doesn't have an inverse.  In this situation, we need to replace every entry in one row (say the bottom row) of $M^T M$ and $M^T \\vec{pts}$ with 1's.  (This knocks the system out of *not* having an inverse, so it will now have an inverse.)"
      ]
    },
    {
      "cell_type": "code",
      "metadata": {
        "id": "1ebWW4rZaopa",
        "colab": {
          "base_uri": "https://localhost:8080/"
        },
        "outputId": "f6cd0b40-670a-49a3-ae1d-ac9cd5f5a7b8"
      },
      "source": [
        "#  Check if MTM is singular\n",
        "is_singular(MT*M)"
      ],
      "execution_count": null,
      "outputs": [
        {
          "output_type": "execute_result",
          "data": {
            "text/plain": [
              "True"
            ]
          },
          "metadata": {},
          "execution_count": 13
        }
      ]
    },
    {
      "cell_type": "code",
      "metadata": {
        "id": "Hs_ZR78AbziT",
        "colab": {
          "base_uri": "https://localhost:8080/"
        },
        "outputId": "91f10f5f-7b39-4463-962d-516f62e88ce6"
      },
      "source": [
        "# If MTM is singular, then adjust one row of MTM and MT pts to be just 1's:\n",
        "\n",
        "#MTM[3] is the entire 4th row of MTM,\n",
        "#so MTM[3] = 1 will put 1's in MTM's 4th row.\n",
        "\n",
        "MTM[3] = 1\n",
        "MTpts[3] = 1\n",
        "\n",
        "print(\"MTM is now: \")\n",
        "print(MTM)\n",
        "\n",
        "print(\"and MTpts is now:\")\n",
        "print(MTpts)\n",
        "\n",
        "print(\"Is our modified MTM singular?\")\n",
        "is_singular(MTM)"
      ],
      "execution_count": null,
      "outputs": [
        {
          "output_type": "stream",
          "name": "stdout",
          "text": [
            "MTM is now: \n",
            "[[ 3 -1 -1 -1]\n",
            " [-1  2 -1  0]\n",
            " [-1 -1  3 -1]\n",
            " [ 1  1  1  1]]\n",
            "and MTpts is now:\n",
            "[[ -5]\n",
            " [ 37]\n",
            " [-63]\n",
            " [  1]]\n",
            "Is our modified MTM singular?\n"
          ]
        },
        {
          "output_type": "execute_result",
          "data": {
            "text/plain": [
              "False"
            ]
          },
          "metadata": {},
          "execution_count": 14
        }
      ]
    },
    {
      "cell_type": "code",
      "metadata": {
        "id": "48WK4ZH7WRxH",
        "colab": {
          "base_uri": "https://localhost:8080/"
        },
        "outputId": "dae24c92-0b00-4486-c941-dbc235211868"
      },
      "source": [
        "#Find our solution using the inverse of MTM:\n",
        "\n",
        "#First, find the inverse of MTM:\n",
        "MTMI = np.linalg.inv(MTM)\n",
        "\n",
        "print(\"The inverse of MTM is:\")\n",
        "print(MTMI)\n",
        "\n",
        "#Now, use the inverse of MTM to solve for the rankings:\n",
        "\n",
        "print(\"\\n\")\n",
        "print(\"The solution are rankings:\")\n",
        "MTMI * MTpts"
      ],
      "execution_count": null,
      "outputs": [
        {
          "output_type": "stream",
          "name": "stdout",
          "text": [
            "The inverse of MTM is:\n",
            "[[ 2.50000000e-01  0.00000000e+00  1.85037171e-17  2.50000000e-01]\n",
            " [ 1.25000000e-01  5.00000000e-01  1.25000000e-01  2.50000000e-01]\n",
            " [ 0.00000000e+00  0.00000000e+00  2.50000000e-01  2.50000000e-01]\n",
            " [-3.75000000e-01 -5.00000000e-01 -3.75000000e-01  2.50000000e-01]]\n",
            "\n",
            "\n",
            "The solution are rankings:\n"
          ]
        },
        {
          "output_type": "execute_result",
          "data": {
            "text/plain": [
              "matrix([[ -1.  ],\n",
              "        [ 10.25],\n",
              "        [-15.5 ],\n",
              "        [  7.25]])"
            ]
          },
          "metadata": {},
          "execution_count": 15
        }
      ]
    },
    {
      "cell_type": "markdown",
      "metadata": {
        "id": "YOTdLT4-R-1h"
      },
      "source": [
        "#  Game Data  - Fall Sports\n",
        "\n",
        "Find the game data for the four teams in the NFC North and NFC South.\n",
        "\n",
        "The teams are:\n",
        "\n",
        "* **NFC North:**  Green Bay Packers, Chicago Bears, Detroit Lions, Minnesota Vikings\n",
        "* **NFC South:**  Atlanta Falcons, Carolina Panthers, New Orleans Saints, Tampa Bay Buccaneers\n",
        "\n",
        "\n",
        "It may be helpful to do a google search to find the data.\n",
        "\n",
        "Be sure to create your matrix on the handout, then enter the data for the system below.\n",
        "\n",
        "# Game Data - Spring Sports\n",
        "\n",
        "Find the game data for the seven teams in the Western Division for Men's Big Ten Basketball.\n",
        "\n",
        "**The teams:**  Wisconsin, Minnesota, Iowa, Illinois, Nebraska, Purdue, and Northewstern.\n",
        "\n",
        "I've provided **most** of the data, but you have to do a Google search to find the scores for the last two teams.\n",
        "\n",
        "Be sure to create your matrix on the handout, then enter the data for the system below.\n"
      ]
    },
    {
      "cell_type": "code",
      "metadata": {
        "id": "RrMkbXIC5v_X",
        "colab": {
          "base_uri": "https://localhost:8080/"
        },
        "outputId": "3acae5f1-b86e-40ac-dc3f-c56d52d895bd"
      },
      "source": [
        "# create the matrix:\n",
        "M = np.matrix([[1, 0, 0, 0, -1, 0, 0],\n",
        "               [-1, 0, 0, 0, 0, 1, 0],\n",
        "               [-1, 0, 0, 0, 1, 0, 0],\n",
        "               [1, 0, 0, -1, 0, 0, 0],\n",
        "               [1, -1, 0, 0, 0, 0, 0],\n",
        "               [1, 0, -1, 0, 0, 0, 0],\n",
        "               [1, 0, 0, 0, 0, 0, -1],\n",
        "               [-1, 0, 0, 0, 0, 1, 0],\n",
        "               [1, -1, 0, 0, 0, 0, 0],\n",
        "               [0, -1, 0, 0, 0, 1, 0],\n",
        "               [0, -1, 0, 0, 0, 0, 1],\n",
        "               [0, 1, 0, -1, 0, 0, 0],\n",
        "               [0, 1, -1, 0, 0, 0, 0],\n",
        "               [0, -1, 0, 0, 0, 1, 0],\n",
        "               [0, 1, -1, 0, 0, 0, 0],\n",
        "               [0, 1, 0, 0, 0, 0, -1],\n",
        "               [0, 1, 0, 0, -1, 0, 0],\n",
        "               [0, 0, 1, -1, 0, 0, 0],\n",
        "               [0, 0, -1, 0, 0, 0, 1],\n",
        "               [0, 0, 1, 0, -1, 0, 0],\n",
        "               [0, 0, -1, 0, 0, 1, 0],\n",
        "               [0, 0, -1, 1, 0, 0, 0],\n",
        "               [0, 0, -1, 0, 1, 0, 0],\n",
        "               [0, 0, 0, -1, 0, 0, 1],\n",
        "               [0, 0, 0, 1, 0, -1, 0],\n",
        "               [0, 0, 0, 1, -1, 0, 0],\n",
        "               [0, 0, 0, 1, 0, 0, -1],\n",
        "               [0, 0, 0, 1, -1, 0, 0],\n",
        "               [0, 0, 0, 0, 1, -1, 0],\n",
        "               [0, 0, 0, 0, -1, 0, 1],\n",
        "               [0, 0, 0, 0, -1, 1, 0],\n",
        "               [0, 0, 0, 0, 0, 1, -1],\n",
        "               [0, 0, 0, 0, 0, 1, -1]])\n",
        "\n",
        "\n",
        "\n",
        "# create the vector for the right hand side:\n",
        "pts = np.matrix([[30], [5], [5], [3], [10], [8], [8], [6], [12], [19], [11], [18], [9], [14], [5], [2], [7], [11], [2], [9], [8], [18], [24], [16], [16], [6], [8], [12], [4], [8], [9], [6], [8]])\n",
        "\n",
        "#Make sure the system looks appropriate:\n",
        "print(np.c_[M,pts])"
      ],
      "execution_count": null,
      "outputs": [
        {
          "output_type": "stream",
          "name": "stdout",
          "text": [
            "[[ 1  0  0  0 -1  0  0 30]\n",
            " [-1  0  0  0  0  1  0  5]\n",
            " [-1  0  0  0  1  0  0  5]\n",
            " [ 1  0  0 -1  0  0  0  3]\n",
            " [ 1 -1  0  0  0  0  0 10]\n",
            " [ 1  0 -1  0  0  0  0  8]\n",
            " [ 1  0  0  0  0  0 -1  8]\n",
            " [-1  0  0  0  0  1  0  6]\n",
            " [ 1 -1  0  0  0  0  0 12]\n",
            " [ 0 -1  0  0  0  1  0 19]\n",
            " [ 0 -1  0  0  0  0  1 11]\n",
            " [ 0  1  0 -1  0  0  0 18]\n",
            " [ 0  1 -1  0  0  0  0  9]\n",
            " [ 0 -1  0  0  0  1  0 14]\n",
            " [ 0  1 -1  0  0  0  0  5]\n",
            " [ 0  1  0  0  0  0 -1  2]\n",
            " [ 0  1  0  0 -1  0  0  7]\n",
            " [ 0  0  1 -1  0  0  0 11]\n",
            " [ 0  0 -1  0  0  0  1  2]\n",
            " [ 0  0  1  0 -1  0  0  9]\n",
            " [ 0  0 -1  0  0  1  0  8]\n",
            " [ 0  0 -1  1  0  0  0 18]\n",
            " [ 0  0 -1  0  1  0  0 24]\n",
            " [ 0  0  0 -1  0  0  1 16]\n",
            " [ 0  0  0  1  0 -1  0 16]\n",
            " [ 0  0  0  1 -1  0  0  6]\n",
            " [ 0  0  0  1  0  0 -1  8]\n",
            " [ 0  0  0  1 -1  0  0 12]\n",
            " [ 0  0  0  0  1 -1  0  4]\n",
            " [ 0  0  0  0 -1  0  1  8]\n",
            " [ 0  0  0  0 -1  1  0  9]\n",
            " [ 0  0  0  0  0  1 -1  6]\n",
            " [ 0  0  0  0  0  1 -1  8]]\n"
          ]
        }
      ]
    },
    {
      "cell_type": "code",
      "metadata": {
        "id": "TLLB3Ebe587M",
        "colab": {
          "base_uri": "https://localhost:8080/"
        },
        "outputId": "75e95aa2-50e6-4555-aa8d-fea9df35234b"
      },
      "source": [
        "# Generate the transpose of M:\n",
        "MT = M.transpose()\n",
        "\n",
        "print(\"The Transpose of M is:\")\n",
        "print(MT)\n",
        "\n",
        "# and find MT*M and MT*pts:\n",
        "print(\"\\n\")\n",
        "print(\"MT * M is: \")\n",
        "MTM = MT * M\n",
        "print(MTM)\n",
        "\n",
        "print(\"\\n\")\n",
        "print(\"MT * pts is:\")\n",
        "MTpts = MT * pts\n",
        "print(MTpts)\n"
      ],
      "execution_count": null,
      "outputs": [
        {
          "output_type": "stream",
          "name": "stdout",
          "text": [
            "The Transpose of M is:\n",
            "[[ 1 -1 -1  1  1  1  1 -1  1  0  0  0  0  0  0  0  0  0  0  0  0  0  0  0\n",
            "   0  0  0  0  0  0  0  0  0]\n",
            " [ 0  0  0  0 -1  0  0  0 -1 -1 -1  1  1 -1  1  1  1  0  0  0  0  0  0  0\n",
            "   0  0  0  0  0  0  0  0  0]\n",
            " [ 0  0  0  0  0 -1  0  0  0  0  0  0 -1  0 -1  0  0  1 -1  1 -1 -1 -1  0\n",
            "   0  0  0  0  0  0  0  0  0]\n",
            " [ 0  0  0 -1  0  0  0  0  0  0  0 -1  0  0  0  0  0 -1  0  0  0  1  0 -1\n",
            "   1  1  1  1  0  0  0  0  0]\n",
            " [-1  0  1  0  0  0  0  0  0  0  0  0  0  0  0  0 -1  0  0 -1  0  0  1  0\n",
            "   0 -1  0 -1  1 -1 -1  0  0]\n",
            " [ 0  1  0  0  0  0  0  1  0  1  0  0  0  1  0  0  0  0  0  0  1  0  0  0\n",
            "  -1  0  0  0 -1  0  1  1  1]\n",
            " [ 0  0  0  0  0  0 -1  0  0  0  1  0  0  0  0 -1  0  0  1  0  0  0  0  1\n",
            "   0  0 -1  0  0  1  0 -1 -1]]\n",
            "\n",
            "\n",
            "MT * M is: \n",
            "[[ 9 -2 -1 -1 -2 -2 -1]\n",
            " [-2 10 -2 -1 -1 -2 -2]\n",
            " [-1 -2  9 -2 -2 -1 -1]\n",
            " [-1 -1 -2  9 -2 -1 -2]\n",
            " [-2 -1 -2 -2 10 -2 -1]\n",
            " [-2 -2 -1 -1 -2 10 -2]\n",
            " [-1 -2 -1 -2 -1 -2  9]]\n",
            "\n",
            "\n",
            "MT * pts is:\n",
            "[[ 55]\n",
            " [-25]\n",
            " [-54]\n",
            " [ 12]\n",
            " [-48]\n",
            " [ 55]\n",
            " [  5]]\n"
          ]
        }
      ]
    },
    {
      "cell_type": "code",
      "metadata": {
        "id": "VXqKSDj06BVa",
        "colab": {
          "base_uri": "https://localhost:8080/"
        },
        "outputId": "881933f5-2b7f-4a08-daf5-3f02bc37697e"
      },
      "source": [
        "#  Check if MTM is singular\n",
        "is_singular(MT*M)"
      ],
      "execution_count": null,
      "outputs": [
        {
          "output_type": "execute_result",
          "data": {
            "text/plain": [
              "True"
            ]
          },
          "metadata": {},
          "execution_count": 18
        }
      ]
    },
    {
      "cell_type": "code",
      "metadata": {
        "id": "5E2eXRT76MQh",
        "colab": {
          "base_uri": "https://localhost:8080/"
        },
        "outputId": "7f102590-d64b-45e7-a691-f96a20f966fb"
      },
      "source": [
        "# Careful - you might not need to do this!\n",
        "# Be sure to check whether MTM is singular on the previous line.\n",
        "\n",
        "# If MTM is singular, then adjust one row of MTM and MT pts to be just 1's:\n",
        "\n",
        "#MTM[3] is the entire 4th row of MTM,\n",
        "#so MTM[3] = 1 will put 1's in MTM's 4th row.\n",
        "\n",
        "MTM[3] = 1\n",
        "MTpts[3] = 1\n",
        "\n",
        "print(\"MTM is now: \")\n",
        "print(MTM)\n",
        "\n",
        "print(\"and MTpts is now:\")\n",
        "print(MTpts)\n",
        "\n",
        "print(\"Is our modified MTM singular?\")\n",
        "is_singular(MTM)"
      ],
      "execution_count": null,
      "outputs": [
        {
          "output_type": "stream",
          "name": "stdout",
          "text": [
            "MTM is now: \n",
            "[[ 9 -2 -1 -1 -2 -2 -1]\n",
            " [-2 10 -2 -1 -1 -2 -2]\n",
            " [-1 -2  9 -2 -2 -1 -1]\n",
            " [ 1  1  1  1  1  1  1]\n",
            " [-2 -1 -2 -2 10 -2 -1]\n",
            " [-2 -2 -1 -1 -2 10 -2]\n",
            " [-1 -2 -1 -2 -1 -2  9]]\n",
            "and MTpts is now:\n",
            "[[ 55]\n",
            " [-25]\n",
            " [-54]\n",
            " [  1]\n",
            " [-48]\n",
            " [ 55]\n",
            " [  5]]\n",
            "Is our modified MTM singular?\n"
          ]
        },
        {
          "output_type": "execute_result",
          "data": {
            "text/plain": [
              "False"
            ]
          },
          "metadata": {},
          "execution_count": 19
        }
      ]
    },
    {
      "cell_type": "code",
      "metadata": {
        "id": "UkDKmNba6YHi",
        "colab": {
          "base_uri": "https://localhost:8080/"
        },
        "outputId": "b0bd49c9-02a1-4433-f558-dbf2ce25e787"
      },
      "source": [
        "#Find our solution using the inverse of MTM:\n",
        "\n",
        "#First, find the inverse of MTM:\n",
        "MTMI = np.linalg.inv(MTM)\n",
        "\n",
        "print(\"The inverse of MTM is:\")\n",
        "print(MTMI)\n",
        "\n",
        "#Now, use the inverse of MTM to solve for the rankings:\n",
        "\n",
        "print(\"\\n\")\n",
        "print(\"The solution are rankings:\")\n",
        "MTMI * MTpts"
      ],
      "execution_count": null,
      "outputs": [
        {
          "output_type": "stream",
          "name": "stdout",
          "text": [
            "The inverse of MTM is:\n",
            "[[ 1.01773383e-01  9.32335076e-03  7.70416939e-04  1.42857143e-01\n",
            "   9.24619035e-03  1.00296652e-02  8.48764425e-04]\n",
            " [ 8.48170883e-03  9.23859302e-02  7.63413149e-03  1.42857143e-01\n",
            "   7.12249867e-04  8.47577341e-03  8.41048384e-03]\n",
            " [-9.32987971e-03 -1.62452324e-03  9.16024554e-02  1.42857143e-01\n",
            "  -7.83474853e-04 -9.32335076e-03 -9.25153223e-03]\n",
            " [-1.01773977e-01 -1.00932335e-01 -9.16736803e-02  1.42857143e-01\n",
            "  -9.25212577e-02 -1.01002967e-01 -9.25218512e-02]\n",
            " [-6.52895711e-06 -7.69882752e-03  6.41024880e-05  1.42857143e-01\n",
            "   8.39742593e-02 -7.06314451e-04 -8.40395489e-03]\n",
            " [ 9.25865473e-03  8.54640486e-03  5.93541556e-06  1.42857143e-01\n",
            "   7.77539438e-03  9.25271931e-02  8.48111529e-03]\n",
            " [-8.40336134e-03 -2.00730998e-19 -8.40336134e-03  1.42857143e-01\n",
            "  -8.40336134e-03  0.00000000e+00  9.24369748e-02]]\n",
            "\n",
            "\n",
            "The solution are rankings:\n"
          ]
        },
        {
          "output_type": "execute_result",
          "data": {
            "text/plain": [
              "matrix([[ 5.57776522],\n",
              "        [-1.63850826],\n",
              "        [-5.79764091],\n",
              "        [ 0.44222348],\n",
              "        [-3.78012431],\n",
              "        [ 5.19628479],\n",
              "        [ 1.        ]])"
            ]
          },
          "metadata": {},
          "execution_count": 20
        }
      ]
    }
  ]
}